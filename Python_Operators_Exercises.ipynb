{
  "cells": [
    {
      "cell_type": "markdown",
      "metadata": {
        "id": "view-in-github",
        "colab_type": "text"
      },
      "source": [
        "<a href=\"https://colab.research.google.com/github/lorettarehm/Bootstrap-Portfolio/blob/main/Python_Operators_Exercises.ipynb\" target=\"_parent\"><img src=\"https://colab.research.google.com/assets/colab-badge.svg\" alt=\"Open In Colab\"/></a>"
      ]
    },
    {
      "cell_type": "markdown",
      "id": "bff5378d",
      "metadata": {
        "id": "bff5378d"
      },
      "source": [
        "# Python Operators Exercises"
      ]
    },
    {
      "cell_type": "markdown",
      "id": "a3de6ca2",
      "metadata": {
        "id": "a3de6ca2"
      },
      "source": [
        "### Exercise 1: Arithmetic Operators\n",
        "Create a program that performs and prints the result of the following arithmetic operations:\n",
        "\n",
        "1. Add 8 and 15\n",
        "2. Subtract 10 from 25\n",
        "3. Multiply 4 by 7\n",
        "4. Divide 18 by 6\n",
        "5. Floor divide 20 by 3\n",
        "6. Find the remainder when 22 is divided by 7\n",
        "7. Raise 3 to the power of 5"
      ]
    },
    {
      "cell_type": "code",
      "execution_count": null,
      "id": "a9d2d83b",
      "metadata": {
        "id": "a9d2d83b"
      },
      "outputs": [],
      "source": [
        "# Exercise 1\n",
        "# Your code here"
      ]
    },
    {
      "cell_type": "markdown",
      "id": "e146fdcb",
      "metadata": {
        "id": "e146fdcb"
      },
      "source": [
        "### Exercise 2: Assignment Operators\n",
        "Create a program that demonstrates the use of each assignment operator by performing the following:\n",
        "\n",
        "1. Assign 10 to a variable `a`\n",
        "2. Add 5 to `a`\n",
        "3. Subtract 3 from `a`\n",
        "4. Multiply `a` by 2\n",
        "5. Divide `a` by 4\n",
        "6. Floor divide `a` by 2\n",
        "7. Find the remainder of `a` when divided by 3\n",
        "8. Raise `a` to the power of 2"
      ]
    },
    {
      "cell_type": "code",
      "execution_count": null,
      "id": "8fc7e8fd",
      "metadata": {
        "id": "8fc7e8fd"
      },
      "outputs": [],
      "source": [
        "# Exercise 2\n",
        "# Your code here"
      ]
    },
    {
      "cell_type": "markdown",
      "id": "1a3074ca",
      "metadata": {
        "id": "1a3074ca"
      },
      "source": [
        "### Exercise 3: Comparison Operators\n",
        "Create a program that compares two numbers `x = 7` and `y = 10` using all six comparison operators and prints the results."
      ]
    },
    {
      "cell_type": "code",
      "execution_count": null,
      "id": "d2bd721c",
      "metadata": {
        "id": "d2bd721c"
      },
      "outputs": [],
      "source": [
        "# Exercise 3\n",
        "# Your code here"
      ]
    },
    {
      "cell_type": "markdown",
      "id": "2fdf7eb1",
      "metadata": {
        "id": "2fdf7eb1"
      },
      "source": [
        "### Exercise 4: Logical Operators\n",
        "Create a program that uses logical operators to evaluate the following expressions and prints the results:\n",
        "\n",
        "1. Check if `x = 5` is greater than 2 and less than 10\n",
        "2. Check if `y = 20` is less than 15 or greater than 18\n",
        "3. Check if not (`z = 12` is equal to 12)"
      ]
    },
    {
      "cell_type": "code",
      "execution_count": null,
      "id": "62f28d5b",
      "metadata": {
        "id": "62f28d5b"
      },
      "outputs": [],
      "source": [
        "# Exercise 4\n",
        "# Your code here"
      ]
    },
    {
      "cell_type": "markdown",
      "id": "740edda7",
      "metadata": {
        "id": "740edda7"
      },
      "source": [
        "### Exercise 5: Identity Operators\n",
        "Create a program that uses identity operators to check if two variables `a` and `b` refer to the same object and prints the result. Assign different values to `a` and `b`."
      ]
    },
    {
      "cell_type": "code",
      "execution_count": null,
      "id": "6d39c9be",
      "metadata": {
        "id": "6d39c9be"
      },
      "outputs": [],
      "source": [
        "# Exercise 5\n",
        "# Your code here"
      ]
    },
    {
      "cell_type": "markdown",
      "id": "93b1d34c",
      "metadata": {
        "id": "93b1d34c"
      },
      "source": [
        "### Exercise 6: Membership Operators\n",
        "Create a program that checks if the string `\"banana\"` is in a list of fruits `[\"apple\", \"banana\", \"cherry\"]` and prints the result. Also, check if `\"mango\"` is not in the list and print the result."
      ]
    },
    {
      "cell_type": "code",
      "execution_count": null,
      "id": "42911fb6",
      "metadata": {
        "id": "42911fb6"
      },
      "outputs": [],
      "source": [
        "# Exercise 6\n",
        "# Your code here"
      ]
    },
    {
      "cell_type": "markdown",
      "id": "982a2352",
      "metadata": {
        "id": "982a2352"
      },
      "source": [
        "### Exercise 7: Complex Expressions\n",
        "Create a program that evaluates the following complex expression and prints the result:\n",
        "\n",
        "\\[ (a + b) * (c - d) / e \\]\n",
        "\n",
        "Assign `a = 5`, `b = 3`, `c = 10`, `d = 2`, and `e = 4`."
      ]
    },
    {
      "cell_type": "code",
      "execution_count": null,
      "id": "0824d919",
      "metadata": {
        "id": "0824d919"
      },
      "outputs": [],
      "source": [
        "# Exercise 7\n",
        "# Your code here"
      ]
    },
    {
      "cell_type": "markdown",
      "id": "69154060",
      "metadata": {
        "id": "69154060"
      },
      "source": [
        "### Exercise 8: Operator Precedence\n",
        "Create a program that demonstrates operator precedence by evaluating the following expressions and prints the results:\n",
        "\n",
        "1. \\( 3 + 5 * 2 \\)\n",
        "2. \\( (3 + 5) * 2 \\)\n",
        "3. \\( 10 / 2 + 5 \\)\n",
        "4. \\( 10 / (2 + 5) \\)"
      ]
    },
    {
      "cell_type": "code",
      "execution_count": null,
      "id": "647a5f92",
      "metadata": {
        "id": "647a5f92"
      },
      "outputs": [],
      "source": [
        "# Exercise 8\n",
        "# Your code here"
      ]
    },
    {
      "cell_type": "markdown",
      "id": "1ae06469",
      "metadata": {
        "id": "1ae06469"
      },
      "source": [
        "### Exercise 9: Using All Operators\n",
        "Create a program that uses all types of operators discussed in the lecture (arithmetic, assignment, comparison, logical, identity, membership) within a single code block to demonstrate their usage. Make sure to print the result of each operation."
      ]
    },
    {
      "cell_type": "code",
      "execution_count": null,
      "id": "880fb377",
      "metadata": {
        "id": "880fb377"
      },
      "outputs": [],
      "source": [
        "# Exercise 9\n",
        "# Your code here"
      ]
    },
    {
      "cell_type": "markdown",
      "id": "564327aa",
      "metadata": {
        "id": "564327aa"
      },
      "source": [
        "### Exercise 10: Real-world Problem\n",
        "Create a program that calculates the final price of a product after applying a discount and tax. Use the following values: original price = $100, discount = 10%, tax rate = 8%. Print the final price.\n",
        "\n",
        "1. Apply the discount.\n",
        "2. Apply the tax to the discounted price.\n",
        "3. Print the final price."
      ]
    },
    {
      "cell_type": "code",
      "execution_count": null,
      "id": "9a4b6812",
      "metadata": {
        "id": "9a4b6812"
      },
      "outputs": [],
      "source": [
        "# Exercise 10\n",
        "# Your code here"
      ]
    }
  ],
  "metadata": {
    "colab": {
      "provenance": [],
      "include_colab_link": true
    }
  },
  "nbformat": 4,
  "nbformat_minor": 5
}